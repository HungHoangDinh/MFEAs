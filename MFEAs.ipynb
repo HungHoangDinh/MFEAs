{
  "nbformat": 4,
  "nbformat_minor": 0,
  "metadata": {
    "colab": {
      "provenance": [],
      "authorship_tag": "ABX9TyP7vmRyaYPWbE903uAkVsAp",
      "include_colab_link": true
    },
    "kernelspec": {
      "name": "python3",
      "display_name": "Python 3"
    },
    "language_info": {
      "name": "python"
    }
  },
  "cells": [
    {
      "cell_type": "markdown",
      "metadata": {
        "id": "view-in-github",
        "colab_type": "text"
      },
      "source": [
        "<a href=\"https://colab.research.google.com/github/HungHoangDinh/MFEAs/blob/main/MFEAs.ipynb\" target=\"_parent\"><img src=\"https://colab.research.google.com/assets/colab-badge.svg\" alt=\"Open In Colab\"/></a>"
      ]
    },
    {
      "cell_type": "code",
      "source": [
        "import numpy as np\n",
        "import random"
      ],
      "metadata": {
        "id": "qCzNtNrWJMSm"
      },
      "execution_count": 1,
      "outputs": []
    },
    {
      "cell_type": "code",
      "source": [
        "population_size=50\n",
        "dimension=5\n",
        "shift=[random.uniform(-1, 1) for _ in range(dimension)]"
      ],
      "metadata": {
        "id": "i0Q2yRlERiOT"
      },
      "execution_count": 2,
      "outputs": []
    },
    {
      "cell_type": "code",
      "source": [
        "def ackley_function(x,shift):\n",
        "    n = len(x)\n",
        "    sum_sq_term = -0.2 * np.sqrt((1/n) * np.sum((x - shift) ** 2))\n",
        "    cos_term = np.sum(np.cos(2 * np.pi * (x - shift)))\n",
        "    return -20 * np.exp(sum_sq_term) - np.exp((1/n) * cos_term) + 20 + np.exp(1)\n",
        "\n",
        "def sphere_function(x):\n",
        "    return np.sum(x**2)"
      ],
      "metadata": {
        "id": "SrkX2zPKLBo5"
      },
      "execution_count": 3,
      "outputs": []
    },
    {
      "cell_type": "code",
      "execution_count": 4,
      "metadata": {
        "id": "EiAheZdvF7Ji"
      },
      "outputs": [],
      "source": [
        "def initialize_population(population_size, dimension):\n",
        "    return np.random.uniform(-5.12, 5.12, size=(population_size, dimension))"
      ]
    },
    {
      "cell_type": "code",
      "source": [
        "population=initialize_population(population_size,dimension)"
      ],
      "metadata": {
        "id": "Pmp46bc4JLqc"
      },
      "execution_count": 5,
      "outputs": []
    },
    {
      "cell_type": "code",
      "source": [
        "def cost_ackley(population):\n",
        "    result = []\n",
        "    for x in population:\n",
        "        result.append(ackley_function(x,shift));\n",
        "    return np.array(result)\n",
        "def cost_sphere(population):\n",
        "    result = []\n",
        "    for x in population:\n",
        "        result.append(sphere_function(x));\n",
        "    return np.array(result)"
      ],
      "metadata": {
        "id": "_-0OfWUiKSfr"
      },
      "execution_count": 6,
      "outputs": []
    },
    {
      "cell_type": "code",
      "source": [
        "def rank_ackley(population):\n",
        "    return np.argsort(np.argsort(cost_ackley(population)))\n",
        "def rank_sphere(population):\n",
        "    return np.argsort(np.argsort(cost_sphere(population)))"
      ],
      "metadata": {
        "id": "MJno1D4qUffw"
      },
      "execution_count": 7,
      "outputs": []
    },
    {
      "cell_type": "code",
      "source": [
        "def evalution(population):\n",
        "  rank_1=rank_ackley(population)\n",
        "  rank_2=rank_sphere(population)\n",
        "  skill_factor=[];\n",
        "  for i in range(population_size):\n",
        "        if rank_1[i] < rank_2[i]:\n",
        "            skill_factor.append(0)\n",
        "        else:\n",
        "            skill_factor.append(1)\n",
        "  return np.array(skill_factor)"
      ],
      "metadata": {
        "id": "mI1OqF4_WgSG"
      },
      "execution_count": 8,
      "outputs": []
    },
    {
      "cell_type": "code",
      "source": [
        "def crossover(parent1, parent2):\n",
        "    crossover_point = np.random.rand()\n",
        "    child1 = parent1 * crossover_point + parent2 * (1 - crossover_point)\n",
        "    child2 = parent2 * crossover_point + parent1 * (1 - crossover_point)\n",
        "    return child1, child2"
      ],
      "metadata": {
        "id": "oXwJpCfiZ9XC"
      },
      "execution_count": 9,
      "outputs": []
    },
    {
      "cell_type": "code",
      "source": [
        "def mutation(individual, mutation_rate, mutation_scale):\n",
        "    mutated_individual = individual.copy()\n",
        "    for i in range(len(mutated_individual)):\n",
        "        if np.random.rand() < mutation_rate:\n",
        "            mutated_individual[i] += np.random.normal(scale=mutation_scale)\n",
        "    return mutated_individual\n"
      ],
      "metadata": {
        "id": "YajcZsgZaKsh"
      },
      "execution_count": 10,
      "outputs": []
    },
    {
      "cell_type": "code",
      "source": [
        "\n",
        "def assortative_mating(cur_pop, skill_factor):\n",
        "    offsprings = []\n",
        "    offsprings_skill_factor = []\n",
        "    rmp=0.3\n",
        "    for i in range(population_size):\n",
        "        rnd = np.random.rand(1)[0]\n",
        "        random_indices = np.random.choice(np.arange(len(cur_pop)), size=2, replace=False)\n",
        "        if skill_factor[random_indices[0]] == skill_factor[random_indices[1]] or rnd < rmp:\n",
        "            offspring1,offspring2=crossover(cur_pop[random_indices[0]],cur_pop[random_indices[1]]);\n",
        "            offsprings.append(offspring1)\n",
        "            random_skill_factor = np.random.rand(1)[0]\n",
        "            if random_skill_factor < 0.5:\n",
        "                offsprings_skill_factor.append(skill_factor[random_indices[0]])\n",
        "            else:\n",
        "                offsprings_skill_factor.append(skill_factor[random_indices[1]])\n",
        "        else:\n",
        "            random_numbers = np.random.choice(np.arange(0, dimension), size=2, replace=False)\n",
        "            offspring0 = cur_pop[random_indices[0]].copy()\n",
        "            offspring1 = cur_pop[random_indices[1]].copy()\n",
        "            offspring0=mutation(offspring0,0.1,0.1);\n",
        "            offspring1=mutation(offspring1,0.1,0.1);\n",
        "            offsprings.append(offspring0)\n",
        "            offsprings_skill_factor.append(skill_factor[random_indices[0]])\n",
        "            offsprings.append(offspring1)\n",
        "            offsprings_skill_factor.append(skill_factor[random_indices[1]])\n",
        "\n",
        "    return np.array(offsprings), np.array(offsprings_skill_factor)"
      ],
      "metadata": {
        "id": "A02uH0veag3q"
      },
      "execution_count": 21,
      "outputs": []
    },
    {
      "cell_type": "code",
      "source": [
        "def update_scalar_fitness(population, s):\n",
        "    ackley_pop = population[np.where(s == 0)[0]]\n",
        "    rank1 = rank_ackley(ackley_pop)\n",
        "    scalar_fitness_ackley = [1/(i+1) for i in rank1]\n",
        "\n",
        "    sphere_pop = population[np.where(s == 1)[0]]\n",
        "    rank2 = rank_sphere(sphere_pop)\n",
        "    scalar_fitness_sphere = [1/(i+1) for i in rank2]\n",
        "    scalar_fitness = np.random.rand(population.shape[0])\n",
        "    scalar_fitness[np.where(s == 0)[0]] = scalar_fitness_ackley\n",
        "    scalar_fitness[np.where(s == 1)[0]] = scalar_fitness_sphere\n",
        "    filter_indices = np.argsort(scalar_fitness)[:10]\n",
        "    fittest_pop = np.delete(population, filter_indices, axis=0)\n",
        "    fittest_skill_factor = np.delete(s, filter_indices)\n",
        "    return fittest_pop, fittest_skill_factor\n"
      ],
      "metadata": {
        "id": "Y4M3FQShepyW"
      },
      "execution_count": 12,
      "outputs": []
    },
    {
      "cell_type": "code",
      "source": [
        "def main():\n",
        "    population=initialize_population(population_size,dimension)\n",
        "    skill_factor=evalution(population)\n",
        "    generation = 400\n",
        "    for i in range(generation):\n",
        "        offspring_pop, offspring_skill_factor = assortative_mating(population, skill_factor)\n",
        "        intermediate_pop = np.vstack((population, offspring_pop))\n",
        "        intermediate_skill_factor = np.concatenate((skill_factor, offspring_skill_factor))\n",
        "        population, skill_factor = update_scalar_fitness(intermediate_pop, intermediate_skill_factor)\n",
        "        ackley_pop = population[np.where(skill_factor == 0)[0]]\n",
        "        sphere_pop = population[np.where(skill_factor == 1)[0]]\n",
        "    print(\"Ackley: \", cost_ackley(ackley_pop).min())\n",
        "    print(\"Sphere: \", cost_sphere(sphere_pop).min())"
      ],
      "metadata": {
        "id": "rJegrLkQdx8m"
      },
      "execution_count": 13,
      "outputs": []
    },
    {
      "cell_type": "code",
      "source": [
        "main();"
      ],
      "metadata": {
        "colab": {
          "base_uri": "https://localhost:8080/"
        },
        "id": "CPZ8rXnAg6Dh",
        "outputId": "e5a8d0b4-8bcc-412b-9c17-46353b4a4ff5"
      },
      "execution_count": 22,
      "outputs": [
        {
          "output_type": "stream",
          "name": "stdout",
          "text": [
            "Ackley:  1.109297069773572\n",
            "Sphere:  0.22425124868264476\n"
          ]
        }
      ]
    }
  ]
}